{
 "cells": [
  {
   "cell_type": "markdown",
   "metadata": {
    "collapsed": true
   },
   "source": [
    "# Лабораторные работы 1-3\n",
    "\n",
    "Лабораторная работа №1: иерархическая кластеризация\n",
    "\n",
    "Лабораторная работа №2: метод к-средних\n",
    "\n",
    "Лабораторная работа №3: DBSCAN"
   ]
  },
  {
   "cell_type": "code",
   "execution_count": 2,
   "metadata": {},
   "outputs": [],
   "source": [
    "import numpy as np\n",
    "import pandas as pd\n",
    "import matplotlib\n",
    "import matplotlib.pyplot as plt\n",
    "matplotlib.style.use('ggplot')\n",
    "%matplotlib inline\n",
    "\n",
    "import os\n"
   ]
  },
  {
   "cell_type": "markdown",
   "metadata": {},
   "source": [
    "Стандартизация данных\n",
    "--------"
   ]
  },
  {
   "cell_type": "code",
   "execution_count": 3,
   "metadata": {},
   "outputs": [],
   "source": [
    "df = pd.read_csv(\"Econom_Cities_data.csv\", sep=\";\", index_col='City', decimal=',')"
   ]
  },
  {
   "cell_type": "code",
   "execution_count": 4,
   "metadata": {},
   "outputs": [
    {
     "data": {
      "text/html": [
       "<div>\n",
       "<style scoped>\n",
       "    .dataframe tbody tr th:only-of-type {\n",
       "        vertical-align: middle;\n",
       "    }\n",
       "\n",
       "    .dataframe tbody tr th {\n",
       "        vertical-align: top;\n",
       "    }\n",
       "\n",
       "    .dataframe thead th {\n",
       "        text-align: right;\n",
       "    }\n",
       "</style>\n",
       "<table border=\"1\" class=\"dataframe\">\n",
       "  <thead>\n",
       "    <tr style=\"text-align: right;\">\n",
       "      <th></th>\n",
       "      <th>Work</th>\n",
       "      <th>Price</th>\n",
       "      <th>Salary</th>\n",
       "    </tr>\n",
       "    <tr>\n",
       "      <th>City</th>\n",
       "      <th></th>\n",
       "      <th></th>\n",
       "      <th></th>\n",
       "    </tr>\n",
       "  </thead>\n",
       "  <tbody>\n",
       "    <tr>\n",
       "      <th>Amsterdam</th>\n",
       "      <td>1714</td>\n",
       "      <td>65.6</td>\n",
       "      <td>49.0</td>\n",
       "    </tr>\n",
       "    <tr>\n",
       "      <th>Athens</th>\n",
       "      <td>1792</td>\n",
       "      <td>53.8</td>\n",
       "      <td>30.4</td>\n",
       "    </tr>\n",
       "    <tr>\n",
       "      <th>Bogota</th>\n",
       "      <td>2152</td>\n",
       "      <td>37.9</td>\n",
       "      <td>11.5</td>\n",
       "    </tr>\n",
       "    <tr>\n",
       "      <th>Bombay</th>\n",
       "      <td>2052</td>\n",
       "      <td>30.3</td>\n",
       "      <td>5.3</td>\n",
       "    </tr>\n",
       "    <tr>\n",
       "      <th>Brussels</th>\n",
       "      <td>1708</td>\n",
       "      <td>73.8</td>\n",
       "      <td>50.5</td>\n",
       "    </tr>\n",
       "  </tbody>\n",
       "</table>\n",
       "</div>"
      ],
      "text/plain": [
       "           Work  Price  Salary\n",
       "City                          \n",
       "Amsterdam  1714   65.6    49.0\n",
       "Athens     1792   53.8    30.4\n",
       "Bogota     2152   37.9    11.5\n",
       "Bombay     2052   30.3     5.3\n",
       "Brussels   1708   73.8    50.5"
      ]
     },
     "execution_count": 4,
     "metadata": {},
     "output_type": "execute_result"
    }
   ],
   "source": [
    "df.head()"
   ]
  },
  {
   "cell_type": "code",
   "execution_count": 5,
   "metadata": {},
   "outputs": [
    {
     "data": {
      "text/html": [
       "<div>\n",
       "<style scoped>\n",
       "    .dataframe tbody tr th:only-of-type {\n",
       "        vertical-align: middle;\n",
       "    }\n",
       "\n",
       "    .dataframe tbody tr th {\n",
       "        vertical-align: top;\n",
       "    }\n",
       "\n",
       "    .dataframe thead th {\n",
       "        text-align: right;\n",
       "    }\n",
       "</style>\n",
       "<table border=\"1\" class=\"dataframe\">\n",
       "  <thead>\n",
       "    <tr style=\"text-align: right;\">\n",
       "      <th></th>\n",
       "      <th>Work</th>\n",
       "      <th>Price</th>\n",
       "      <th>Salary</th>\n",
       "    </tr>\n",
       "  </thead>\n",
       "  <tbody>\n",
       "    <tr>\n",
       "      <th>count</th>\n",
       "      <td>48.000000</td>\n",
       "      <td>48.000000</td>\n",
       "      <td>48.000000</td>\n",
       "    </tr>\n",
       "    <tr>\n",
       "      <th>mean</th>\n",
       "      <td>1384.958333</td>\n",
       "      <td>68.860417</td>\n",
       "      <td>-378.727083</td>\n",
       "    </tr>\n",
       "    <tr>\n",
       "      <th>std</th>\n",
       "      <td>2404.897007</td>\n",
       "      <td>21.784659</td>\n",
       "      <td>2027.338052</td>\n",
       "    </tr>\n",
       "    <tr>\n",
       "      <th>min</th>\n",
       "      <td>-9999.000000</td>\n",
       "      <td>30.300000</td>\n",
       "      <td>-9999.000000</td>\n",
       "    </tr>\n",
       "    <tr>\n",
       "      <th>25%</th>\n",
       "      <td>1740.750000</td>\n",
       "      <td>49.650000</td>\n",
       "      <td>12.250000</td>\n",
       "    </tr>\n",
       "    <tr>\n",
       "      <th>50%</th>\n",
       "      <td>1834.500000</td>\n",
       "      <td>70.500000</td>\n",
       "      <td>40.300000</td>\n",
       "    </tr>\n",
       "    <tr>\n",
       "      <th>75%</th>\n",
       "      <td>1972.750000</td>\n",
       "      <td>81.700000</td>\n",
       "      <td>58.700000</td>\n",
       "    </tr>\n",
       "    <tr>\n",
       "      <th>max</th>\n",
       "      <td>2375.000000</td>\n",
       "      <td>115.500000</td>\n",
       "      <td>100.000000</td>\n",
       "    </tr>\n",
       "  </tbody>\n",
       "</table>\n",
       "</div>"
      ],
      "text/plain": [
       "              Work       Price       Salary\n",
       "count    48.000000   48.000000    48.000000\n",
       "mean   1384.958333   68.860417  -378.727083\n",
       "std    2404.897007   21.784659  2027.338052\n",
       "min   -9999.000000   30.300000 -9999.000000\n",
       "25%    1740.750000   49.650000    12.250000\n",
       "50%    1834.500000   70.500000    40.300000\n",
       "75%    1972.750000   81.700000    58.700000\n",
       "max    2375.000000  115.500000   100.000000"
      ]
     },
     "execution_count": 5,
     "metadata": {},
     "output_type": "execute_result"
    }
   ],
   "source": [
    "#сделаем обзор данных\n",
    "df.describe()"
   ]
  },
  {
   "cell_type": "markdown",
   "metadata": {},
   "source": [
    "Настораживает min для Work и Salary. Данные явно испорчены, эти строки удалим из выборки."
   ]
  },
  {
   "cell_type": "code",
   "execution_count": 6,
   "metadata": {},
   "outputs": [
    {
     "data": {
      "text/html": [
       "<div>\n",
       "<style scoped>\n",
       "    .dataframe tbody tr th:only-of-type {\n",
       "        vertical-align: middle;\n",
       "    }\n",
       "\n",
       "    .dataframe tbody tr th {\n",
       "        vertical-align: top;\n",
       "    }\n",
       "\n",
       "    .dataframe thead th {\n",
       "        text-align: right;\n",
       "    }\n",
       "</style>\n",
       "<table border=\"1\" class=\"dataframe\">\n",
       "  <thead>\n",
       "    <tr style=\"text-align: right;\">\n",
       "      <th></th>\n",
       "      <th>Work</th>\n",
       "      <th>Price</th>\n",
       "      <th>Salary</th>\n",
       "    </tr>\n",
       "  </thead>\n",
       "  <tbody>\n",
       "    <tr>\n",
       "      <th>count</th>\n",
       "      <td>46.000000</td>\n",
       "      <td>46.000000</td>\n",
       "      <td>46.000000</td>\n",
       "    </tr>\n",
       "    <tr>\n",
       "      <th>mean</th>\n",
       "      <td>1879.913043</td>\n",
       "      <td>70.100000</td>\n",
       "      <td>39.545652</td>\n",
       "    </tr>\n",
       "    <tr>\n",
       "      <th>std</th>\n",
       "      <td>174.342552</td>\n",
       "      <td>21.389177</td>\n",
       "      <td>24.757703</td>\n",
       "    </tr>\n",
       "    <tr>\n",
       "      <th>min</th>\n",
       "      <td>1583.000000</td>\n",
       "      <td>30.300000</td>\n",
       "      <td>2.700000</td>\n",
       "    </tr>\n",
       "    <tr>\n",
       "      <th>25%</th>\n",
       "      <td>1745.250000</td>\n",
       "      <td>51.775000</td>\n",
       "      <td>14.375000</td>\n",
       "    </tr>\n",
       "    <tr>\n",
       "      <th>50%</th>\n",
       "      <td>1849.000000</td>\n",
       "      <td>70.950000</td>\n",
       "      <td>43.650000</td>\n",
       "    </tr>\n",
       "    <tr>\n",
       "      <th>75%</th>\n",
       "      <td>1976.250000</td>\n",
       "      <td>81.900000</td>\n",
       "      <td>59.700000</td>\n",
       "    </tr>\n",
       "    <tr>\n",
       "      <th>max</th>\n",
       "      <td>2375.000000</td>\n",
       "      <td>115.500000</td>\n",
       "      <td>100.000000</td>\n",
       "    </tr>\n",
       "  </tbody>\n",
       "</table>\n",
       "</div>"
      ],
      "text/plain": [
       "              Work       Price      Salary\n",
       "count    46.000000   46.000000   46.000000\n",
       "mean   1879.913043   70.100000   39.545652\n",
       "std     174.342552   21.389177   24.757703\n",
       "min    1583.000000   30.300000    2.700000\n",
       "25%    1745.250000   51.775000   14.375000\n",
       "50%    1849.000000   70.950000   43.650000\n",
       "75%    1976.250000   81.900000   59.700000\n",
       "max    2375.000000  115.500000  100.000000"
      ]
     },
     "execution_count": 6,
     "metadata": {},
     "output_type": "execute_result"
    }
   ],
   "source": [
    "df = df.drop(df[(df.Work < 0) & (df.Salary < 0)].index)\n",
    "df.describe()"
   ]
  },
  {
   "cell_type": "markdown",
   "metadata": {},
   "source": [
    "Work значительно больше Price и Salary, поэтому надо привести данные к одному порядку"
   ]
  },
  {
   "cell_type": "code",
   "execution_count": 8,
   "metadata": {},
   "outputs": [],
   "source": [
    "from sklearn import preprocessing\n",
    "\n",
    "# Выбираем MinMaxScaler приводя к отрезку [0, 1]\n",
    "norm = preprocessing.MinMaxScaler()\n",
    "\n",
    "# вычисляем параметры нормализации (они будут сохранены внутри объекта norm)\n",
    "norm.fit(df)\n",
    "# преобразовываем данные с параметрами\n",
    "X = norm.transform(df)\n",
    "# Полученный на предыдущем шаге объект X -- это матрица класса numpy.ndarray.\n",
    "# Глазами на неё смотреть неудобно, лучше преобразовать её в объект класса pandas.DataFrame.\n",
    "X = pd.DataFrame(X, index=df.index, columns=df.columns)"
   ]
  },
  {
   "cell_type": "code",
   "execution_count": 9,
   "metadata": {},
   "outputs": [
    {
     "data": {
      "text/html": [
       "<div>\n",
       "<style scoped>\n",
       "    .dataframe tbody tr th:only-of-type {\n",
       "        vertical-align: middle;\n",
       "    }\n",
       "\n",
       "    .dataframe tbody tr th {\n",
       "        vertical-align: top;\n",
       "    }\n",
       "\n",
       "    .dataframe thead th {\n",
       "        text-align: right;\n",
       "    }\n",
       "</style>\n",
       "<table border=\"1\" class=\"dataframe\">\n",
       "  <thead>\n",
       "    <tr style=\"text-align: right;\">\n",
       "      <th></th>\n",
       "      <th>Work</th>\n",
       "      <th>Price</th>\n",
       "      <th>Salary</th>\n",
       "    </tr>\n",
       "    <tr>\n",
       "      <th>City</th>\n",
       "      <th></th>\n",
       "      <th></th>\n",
       "      <th></th>\n",
       "    </tr>\n",
       "  </thead>\n",
       "  <tbody>\n",
       "    <tr>\n",
       "      <th>Amsterdam</th>\n",
       "      <td>0.165404</td>\n",
       "      <td>0.414319</td>\n",
       "      <td>0.475848</td>\n",
       "    </tr>\n",
       "    <tr>\n",
       "      <th>Athens</th>\n",
       "      <td>0.263889</td>\n",
       "      <td>0.275822</td>\n",
       "      <td>0.284687</td>\n",
       "    </tr>\n",
       "    <tr>\n",
       "      <th>Bogota</th>\n",
       "      <td>0.718434</td>\n",
       "      <td>0.089202</td>\n",
       "      <td>0.090442</td>\n",
       "    </tr>\n",
       "    <tr>\n",
       "      <th>Bombay</th>\n",
       "      <td>0.592172</td>\n",
       "      <td>0.000000</td>\n",
       "      <td>0.026721</td>\n",
       "    </tr>\n",
       "    <tr>\n",
       "      <th>Brussels</th>\n",
       "      <td>0.157828</td>\n",
       "      <td>0.510563</td>\n",
       "      <td>0.491264</td>\n",
       "    </tr>\n",
       "  </tbody>\n",
       "</table>\n",
       "</div>"
      ],
      "text/plain": [
       "               Work     Price    Salary\n",
       "City                                   \n",
       "Amsterdam  0.165404  0.414319  0.475848\n",
       "Athens     0.263889  0.275822  0.284687\n",
       "Bogota     0.718434  0.089202  0.090442\n",
       "Bombay     0.592172  0.000000  0.026721\n",
       "Brussels   0.157828  0.510563  0.491264"
      ]
     },
     "execution_count": 9,
     "metadata": {},
     "output_type": "execute_result"
    }
   ],
   "source": [
    "X.head()"
   ]
  },
  {
   "cell_type": "code",
   "execution_count": 10,
   "metadata": {},
   "outputs": [],
   "source": [
    "#делаем копии данных для каждого раздела\n",
    "df1=df\n",
    "df2=df\n",
    "df3=df\n",
    "X1=X\n",
    "X2=X\n",
    "X3=X"
   ]
  },
  {
   "cell_type": "markdown",
   "metadata": {},
   "source": [
    "1.Иерархическая кластеризация\n",
    "--------\n",
    "Применим алгоритм иерархической кластеризации и построим дендрограмму и каменистую осыпь. \n",
    "Вычисления производятся функцией linkage. \n",
    "Аргументы функции: \n",
    "    таблица данных, \n",
    "    метод вычисления расстояний между кластерами (```ward```, ```single```, ```complete```, ```average```) и \n",
    "    метод вычисления расстояний между объектами (```euclidean``` (default), ```cityblock``` aka Manhattan, ```hamming```, ```cosine```). См. [документацию]( https://docs.scipy.org/doc/scipy/reference/cluster.hierarchy.html)."
   ]
  },
  {
   "cell_type": "code",
   "execution_count": 12,
   "metadata": {},
   "outputs": [],
   "source": [
    "from scipy.cluster.hierarchy import dendrogram, linkage, fcluster\n",
    "\n",
    "# Объект, в котором будет хранится информация о последовательном слиянии кластеров\n",
    "link1 = linkage(X1, 'ward', 'euclidean')"
   ]
  },
  {
   "cell_type": "markdown",
   "metadata": {},
   "source": [
    "Объект ```link``` представляет собой матрицу ```(n-1) x 4```, где ```n``` -- число наблюдений. Каждая строка матрицы представляет собой результат слияния очередной пары кластеров с номерами ```link[i, 0]``` и ```link[i, 1]```. Новому кластеру присваивается номер ```n + i```. ```link[i, 2]``` содержит расстояние между объединяемыми кластерами, а ```link[i, 3]``` -- размер нового кластера."
   ]
  },
  {
   "cell_type": "code",
   "execution_count": 13,
   "metadata": {},
   "outputs": [
    {
     "data": {
      "text/plain": [
       "array([[2.00000000e+01, 3.30000000e+01, 3.19198381e-02, 2.00000000e+00],\n",
       "       [2.60000000e+01, 4.40000000e+01, 5.20074286e-02, 2.00000000e+00],\n",
       "       [2.50000000e+01, 2.80000000e+01, 5.90550404e-02, 2.00000000e+00],\n",
       "       [4.00000000e+00, 3.90000000e+01, 6.37259619e-02, 2.00000000e+00],\n",
       "       [6.00000000e+00, 3.70000000e+01, 6.67101287e-02, 2.00000000e+00],\n",
       "       [2.00000000e+00, 1.70000000e+01, 7.03508057e-02, 2.00000000e+00],\n",
       "       [1.00000000e+01, 1.10000000e+01, 7.18059569e-02, 2.00000000e+00],\n",
       "       [7.00000000e+00, 4.30000000e+01, 7.34715697e-02, 2.00000000e+00],\n",
       "       [1.00000000e+00, 3.00000000e+01, 8.36500176e-02, 2.00000000e+00],\n",
       "       [1.80000000e+01, 3.40000000e+01, 9.36777469e-02, 2.00000000e+00],\n",
       "       [0.00000000e+00, 4.90000000e+01, 1.02114155e-01, 3.00000000e+00],\n",
       "       [1.20000000e+01, 4.50000000e+01, 1.11730621e-01, 2.00000000e+00],\n",
       "       [9.00000000e+00, 4.60000000e+01, 1.11882430e-01, 3.00000000e+00],\n",
       "       [1.30000000e+01, 3.10000000e+01, 1.12403225e-01, 2.00000000e+00],\n",
       "       [3.60000000e+01, 5.40000000e+01, 1.18998599e-01, 3.00000000e+00],\n",
       "       [2.70000000e+01, 5.30000000e+01, 1.23790897e-01, 3.00000000e+00],\n",
       "       [5.00000000e+00, 1.60000000e+01, 1.35980985e-01, 2.00000000e+00],\n",
       "       [8.00000000e+00, 2.30000000e+01, 1.36075259e-01, 2.00000000e+00],\n",
       "       [4.70000000e+01, 5.80000000e+01, 1.37650299e-01, 5.00000000e+00],\n",
       "       [3.50000000e+01, 5.50000000e+01, 1.46023876e-01, 3.00000000e+00],\n",
       "       [2.10000000e+01, 2.90000000e+01, 1.64424737e-01, 2.00000000e+00],\n",
       "       [3.20000000e+01, 5.10000000e+01, 1.69538284e-01, 3.00000000e+00],\n",
       "       [4.10000000e+01, 5.00000000e+01, 1.76200732e-01, 3.00000000e+00],\n",
       "       [1.90000000e+01, 6.00000000e+01, 1.94135026e-01, 4.00000000e+00],\n",
       "       [5.20000000e+01, 5.60000000e+01, 2.00719387e-01, 5.00000000e+00],\n",
       "       [4.80000000e+01, 6.20000000e+01, 2.09178288e-01, 4.00000000e+00],\n",
       "       [1.50000000e+01, 6.10000000e+01, 2.18876632e-01, 4.00000000e+00],\n",
       "       [2.40000000e+01, 6.70000000e+01, 2.36788589e-01, 4.00000000e+00],\n",
       "       [2.20000000e+01, 7.00000000e+01, 2.58867098e-01, 6.00000000e+00],\n",
       "       [3.00000000e+00, 7.30000000e+01, 2.65208900e-01, 5.00000000e+00],\n",
       "       [6.30000000e+01, 6.40000000e+01, 3.02129433e-01, 7.00000000e+00],\n",
       "       [3.80000000e+01, 4.20000000e+01, 3.13790652e-01, 2.00000000e+00],\n",
       "       [6.60000000e+01, 7.20000000e+01, 3.20359193e-01, 6.00000000e+00],\n",
       "       [6.80000000e+01, 7.10000000e+01, 3.68124212e-01, 7.00000000e+00],\n",
       "       [1.40000000e+01, 4.00000000e+01, 3.83365917e-01, 2.00000000e+00],\n",
       "       [6.50000000e+01, 6.90000000e+01, 4.02350427e-01, 7.00000000e+00],\n",
       "       [7.40000000e+01, 7.60000000e+01, 4.15230115e-01, 1.30000000e+01],\n",
       "       [5.90000000e+01, 7.70000000e+01, 4.23739788e-01, 4.00000000e+00],\n",
       "       [7.90000000e+01, 8.10000000e+01, 6.66138058e-01, 1.40000000e+01],\n",
       "       [5.70000000e+01, 8.30000000e+01, 7.32797404e-01, 6.00000000e+00],\n",
       "       [7.80000000e+01, 8.20000000e+01, 7.95773624e-01, 1.90000000e+01],\n",
       "       [7.50000000e+01, 8.00000000e+01, 8.14161301e-01, 7.00000000e+00],\n",
       "       [8.40000000e+01, 8.70000000e+01, 1.10243379e+00, 2.10000000e+01],\n",
       "       [8.50000000e+01, 8.60000000e+01, 1.20919138e+00, 2.50000000e+01],\n",
       "       [8.80000000e+01, 8.90000000e+01, 3.02744985e+00, 4.60000000e+01]])"
      ]
     },
     "execution_count": 13,
     "metadata": {},
     "output_type": "execute_result"
    }
   ],
   "source": [
    "link1"
   ]
  },
  {
   "cell_type": "code",
   "execution_count": 14,
   "metadata": {},
   "outputs": [
    {
     "data": {
      "image/png": "[encoded data removed]",
      "text/plain": [
       "<Figure size 432x288 with 1 Axes>"
      ]
     },
     "metadata": {
      "needs_background": "light"
     },
     "output_type": "display_data"
    }
   ],
   "source": [
    "# Функция для построения дендрограммы\n",
    "dn = dendrogram(link1, orientation = \"right\")"
   ]
  },
  {
   "cell_type": "markdown",
   "metadata": {},
   "source": [
    "На первый взгляд 4 кластера, но ничего толком не видно, ничего не понятно, еще и игнорируем раскраску кластеров - надо строить каменистую осыпь."
   ]
  },
  {
   "cell_type": "markdown",
   "metadata": {},
   "source": [
    "**Каменистая осыпь**\n",
    "\n",
    "Построим график, носящий название \"каменистая осыпь\". Напомним, в матрице ```link``` во второй колонке хранятся расстояния между парами слитых кластеров. По построению, строки матрицы упорядочены по этой колонке."
   ]
  },
  {
   "cell_type": "code",
   "execution_count": 15,
   "metadata": {},
   "outputs": [
    {
     "data": {
      "text/plain": [
       "array([0.03191984, 0.05200743, 0.05905504, 0.06372596, 0.06671013,\n",
       "       0.07035081, 0.07180596, 0.07347157, 0.08365002, 0.09367775,\n",
       "       0.10211416, 0.11173062, 0.11188243, 0.11240322, 0.1189986 ,\n",
       "       0.1237909 , 0.13598099, 0.13607526, 0.1376503 , 0.14602388,\n",
       "       0.16442474, 0.16953828, 0.17620073, 0.19413503, 0.20071939,\n",
       "       0.20917829, 0.21887663, 0.23678859, 0.2588671 , 0.2652089 ,\n",
       "       0.30212943, 0.31379065, 0.32035919, 0.36812421, 0.38336592,\n",
       "       0.40235043, 0.41523011, 0.42373979, 0.66613806, 0.7327974 ,\n",
       "       0.79577362, 0.8141613 , 1.10243379, 1.20919138, 3.02744985])"
      ]
     },
     "execution_count": 15,
     "metadata": {},
     "output_type": "execute_result"
    }
   ],
   "source": [
    "dist = link1[:, 2]\n",
    "dist"
   ]
  },
  {
   "cell_type": "markdown",
   "metadata": {},
   "source": [
    "Таким образом, можно построить график зависимости расстояний между кластерами от шага слияния (обратного), и посмотреть, начиная с какого момента это расстояние перестанет значительно меняться."
   ]
  },
  {
   "cell_type": "code",
   "execution_count": 16,
   "metadata": {},
   "outputs": [
    {
     "data": {
      "text/plain": [
       "Text(5, 1, '4 clusters')"
      ]
     },
     "execution_count": 16,
     "metadata": {},
     "output_type": "execute_result"
    },
    {
     "data": {
      "image/png": "[encoded data removed]",
      "text/plain": [
       "<Figure size 432x288 with 1 Axes>"
      ]
     },
     "metadata": {
      "needs_background": "light"
     },
     "output_type": "display_data"
    }
   ],
   "source": [
    "dist_rev = dist[::-1]\n",
    "idxs = range(1, len(dist) + 1)\n",
    "plt.plot(idxs, dist_rev, marker='o')\n",
    "plt.title('Distance between merged clusters')\n",
    "plt.xlabel('Step')\n",
    "plt.ylabel('Distance')\n",
    "plt.axhline(1.2, c='k', linestyle='dashed')\n",
    "plt.text(3, 1.3, '3 clusters')\n",
    "plt.axhline(1.1, c='k', linestyle='dashed')\n",
    "plt.text(5, 1, '4 clusters')"
   ]
  },
  {
   "cell_type": "markdown",
   "metadata": {},
   "source": [
    "Из картинки видно, что если мы остановимся объединять кластеры при расстоянии равном примерно 1.2, мы получим 3 кластера - как раскрашена дендрограмме, если на расстоянии примерно 1.1 - 4, которые мы и видели на дендрограмме."
   ]
  },
  {
   "cell_type": "code",
   "execution_count": 26,
   "metadata": {},
   "outputs": [],
   "source": [
    "# Останавливаем объединение, если расстояние между кластерами превышает 1.2\n",
    "df1['cluster'] = fcluster(link1, 1.2, criterion='distance')"
   ]
  },
  {
   "cell_type": "markdown",
   "metadata": {},
   "source": [
    "Теперь вычислим средние значения всех характеристик, сгруппировав данные по номеру кластера. Используем стандартную конструкцию: вызов метода ```groupby``` с последующим применением группирующей функции."
   ]
  },
  {
   "cell_type": "code",
   "execution_count": 27,
   "metadata": {},
   "outputs": [
    {
     "data": {
      "text/html": [
       "<div>\n",
       "<style scoped>\n",
       "    .dataframe tbody tr th:only-of-type {\n",
       "        vertical-align: middle;\n",
       "    }\n",
       "\n",
       "    .dataframe tbody tr th {\n",
       "        vertical-align: top;\n",
       "    }\n",
       "\n",
       "    .dataframe thead th {\n",
       "        text-align: right;\n",
       "    }\n",
       "</style>\n",
       "<table border=\"1\" class=\"dataframe\">\n",
       "  <thead>\n",
       "    <tr style=\"text-align: right;\">\n",
       "      <th></th>\n",
       "      <th>Work</th>\n",
       "      <th>Price</th>\n",
       "      <th>Salary</th>\n",
       "    </tr>\n",
       "    <tr>\n",
       "      <th>cluster</th>\n",
       "      <th></th>\n",
       "      <th></th>\n",
       "      <th></th>\n",
       "    </tr>\n",
       "  </thead>\n",
       "  <tbody>\n",
       "    <tr>\n",
       "      <th>1</th>\n",
       "      <td>1987.857143</td>\n",
       "      <td>52.395238</td>\n",
       "      <td>16.347619</td>\n",
       "    </tr>\n",
       "    <tr>\n",
       "      <th>2</th>\n",
       "      <td>1780.500000</td>\n",
       "      <td>108.550000</td>\n",
       "      <td>71.300000</td>\n",
       "    </tr>\n",
       "    <tr>\n",
       "      <th>3</th>\n",
       "      <td>1792.000000</td>\n",
       "      <td>77.526316</td>\n",
       "      <td>55.157895</td>\n",
       "    </tr>\n",
       "  </tbody>\n",
       "</table>\n",
       "</div>"
      ],
      "text/plain": [
       "                Work       Price     Salary\n",
       "cluster                                    \n",
       "1        1987.857143   52.395238  16.347619\n",
       "2        1780.500000  108.550000  71.300000\n",
       "3        1792.000000   77.526316  55.157895"
      ]
     },
     "execution_count": 27,
     "metadata": {},
     "output_type": "execute_result"
    }
   ],
   "source": [
    "df1.groupby('cluster').mean()"
   ]
  },
  {
   "cell_type": "code",
   "execution_count": 28,
   "metadata": {},
   "outputs": [
    {
     "data": {
      "text/plain": [
       "cluster\n",
       "1    21\n",
       "2     6\n",
       "3    19\n",
       "dtype: int64"
      ]
     },
     "execution_count": 28,
     "metadata": {},
     "output_type": "execute_result"
    }
   ],
   "source": [
    "df1.groupby('cluster').size()"
   ]
  },
  {
   "cell_type": "code",
   "execution_count": 29,
   "metadata": {},
   "outputs": [],
   "source": [
    "# Останавливаем объединение, если расстояние между кластерами превышает 1.1\n",
    "df1['cluster'] = fcluster(link1, 1.1, criterion='distance')"
   ]
  },
  {
   "cell_type": "code",
   "execution_count": 30,
   "metadata": {},
   "outputs": [
    {
     "data": {
      "text/html": [
       "<div>\n",
       "<style scoped>\n",
       "    .dataframe tbody tr th:only-of-type {\n",
       "        vertical-align: middle;\n",
       "    }\n",
       "\n",
       "    .dataframe tbody tr th {\n",
       "        vertical-align: top;\n",
       "    }\n",
       "\n",
       "    .dataframe thead th {\n",
       "        text-align: right;\n",
       "    }\n",
       "</style>\n",
       "<table border=\"1\" class=\"dataframe\">\n",
       "  <thead>\n",
       "    <tr style=\"text-align: right;\">\n",
       "      <th></th>\n",
       "      <th>Work</th>\n",
       "      <th>Price</th>\n",
       "      <th>Salary</th>\n",
       "    </tr>\n",
       "    <tr>\n",
       "      <th>cluster</th>\n",
       "      <th></th>\n",
       "      <th></th>\n",
       "      <th></th>\n",
       "    </tr>\n",
       "  </thead>\n",
       "  <tbody>\n",
       "    <tr>\n",
       "      <th>1</th>\n",
       "      <td>1893.428571</td>\n",
       "      <td>53.664286</td>\n",
       "      <td>16.892857</td>\n",
       "    </tr>\n",
       "    <tr>\n",
       "      <th>2</th>\n",
       "      <td>2176.714286</td>\n",
       "      <td>49.857143</td>\n",
       "      <td>15.257143</td>\n",
       "    </tr>\n",
       "    <tr>\n",
       "      <th>3</th>\n",
       "      <td>1780.500000</td>\n",
       "      <td>108.550000</td>\n",
       "      <td>71.300000</td>\n",
       "    </tr>\n",
       "    <tr>\n",
       "      <th>4</th>\n",
       "      <td>1792.000000</td>\n",
       "      <td>77.526316</td>\n",
       "      <td>55.157895</td>\n",
       "    </tr>\n",
       "  </tbody>\n",
       "</table>\n",
       "</div>"
      ],
      "text/plain": [
       "                Work       Price     Salary\n",
       "cluster                                    \n",
       "1        1893.428571   53.664286  16.892857\n",
       "2        2176.714286   49.857143  15.257143\n",
       "3        1780.500000  108.550000  71.300000\n",
       "4        1792.000000   77.526316  55.157895"
      ]
     },
     "execution_count": 30,
     "metadata": {},
     "output_type": "execute_result"
    }
   ],
   "source": [
    "df1.groupby('cluster').mean()"
   ]
  },
  {
   "cell_type": "code",
   "execution_count": 31,
   "metadata": {},
   "outputs": [
    {
     "data": {
      "text/plain": [
       "cluster\n",
       "1    14\n",
       "2     7\n",
       "3     6\n",
       "4    19\n",
       "dtype: int64"
      ]
     },
     "execution_count": 31,
     "metadata": {},
     "output_type": "execute_result"
    }
   ],
   "source": [
    "df1.groupby('cluster').size()"
   ]
  },
  {
   "cell_type": "markdown",
   "metadata": {},
   "source": [
    "**Вывод:**\n",
    "4 кластера кажутся более логичными и по содержанию, и по кол-ву вхождений в этот кластер, примерное описание: 1) При среднем рабочем дне низкая з/п, цены ниже среднего 2)При длинном рабочем дне очень низкая з/п, цены ниже среднего 3) При средней продолжительности рабочем дне высокая з/п, но и высокие цены 4)При средней продолжительности рабочем дне средняя з/п, цены выше среднего"
   ]
  },
  {
   "cell_type": "markdown",
   "metadata": {},
   "source": [
    "2.Метод к-средних\n",
    "----------------------"
   ]
  },
  {
   "cell_type": "code",
   "execution_count": 32,
   "metadata": {},
   "outputs": [
    {
     "data": {
      "text/html": [
       "<div>\n",
       "<style scoped>\n",
       "    .dataframe tbody tr th:only-of-type {\n",
       "        vertical-align: middle;\n",
       "    }\n",
       "\n",
       "    .dataframe tbody tr th {\n",
       "        vertical-align: top;\n",
       "    }\n",
       "\n",
       "    .dataframe thead th {\n",
       "        text-align: right;\n",
       "    }\n",
       "</style>\n",
       "<table border=\"1\" class=\"dataframe\">\n",
       "  <thead>\n",
       "    <tr style=\"text-align: right;\">\n",
       "      <th></th>\n",
       "      <th>Work</th>\n",
       "      <th>Price</th>\n",
       "      <th>Salary</th>\n",
       "    </tr>\n",
       "    <tr>\n",
       "      <th>City</th>\n",
       "      <th></th>\n",
       "      <th></th>\n",
       "      <th></th>\n",
       "    </tr>\n",
       "  </thead>\n",
       "  <tbody>\n",
       "    <tr>\n",
       "      <th>Amsterdam</th>\n",
       "      <td>0.165404</td>\n",
       "      <td>0.414319</td>\n",
       "      <td>0.475848</td>\n",
       "    </tr>\n",
       "    <tr>\n",
       "      <th>Athens</th>\n",
       "      <td>0.263889</td>\n",
       "      <td>0.275822</td>\n",
       "      <td>0.284687</td>\n",
       "    </tr>\n",
       "    <tr>\n",
       "      <th>Bogota</th>\n",
       "      <td>0.718434</td>\n",
       "      <td>0.089202</td>\n",
       "      <td>0.090442</td>\n",
       "    </tr>\n",
       "    <tr>\n",
       "      <th>Bombay</th>\n",
       "      <td>0.592172</td>\n",
       "      <td>0.000000</td>\n",
       "      <td>0.026721</td>\n",
       "    </tr>\n",
       "    <tr>\n",
       "      <th>Brussels</th>\n",
       "      <td>0.157828</td>\n",
       "      <td>0.510563</td>\n",
       "      <td>0.491264</td>\n",
       "    </tr>\n",
       "  </tbody>\n",
       "</table>\n",
       "</div>"
      ],
      "text/plain": [
       "               Work     Price    Salary\n",
       "City                                   \n",
       "Amsterdam  0.165404  0.414319  0.475848\n",
       "Athens     0.263889  0.275822  0.284687\n",
       "Bogota     0.718434  0.089202  0.090442\n",
       "Bombay     0.592172  0.000000  0.026721\n",
       "Brussels   0.157828  0.510563  0.491264"
      ]
     },
     "execution_count": 32,
     "metadata": {},
     "output_type": "execute_result"
    }
   ],
   "source": [
    "#проверим на всякий случай данные\n",
    "X2.head()"
   ]
  },
  {
   "cell_type": "markdown",
   "metadata": {},
   "source": [
    "Для кластеризации методом k-means необходимо задать k наперёд. Попробуем k = 4 как результат иерархической кластеризации. "
   ]
  },
  {
   "cell_type": "code",
   "execution_count": 34,
   "metadata": {},
   "outputs": [],
   "source": [
    "from sklearn.cluster import KMeans\n",
    "# инициализация модели\n",
    "model = KMeans(n_clusters=4, random_state=42)"
   ]
  },
  {
   "cell_type": "code",
   "execution_count": 35,
   "metadata": {},
   "outputs": [
    {
     "data": {
      "text/plain": [
       "KMeans(n_clusters=4, random_state=42)"
      ]
     },
     "execution_count": 35,
     "metadata": {},
     "output_type": "execute_result"
    }
   ],
   "source": [
    "# подгонка модели по данным из X\n",
    "model.fit(X2)"
   ]
  },
  {
   "cell_type": "code",
   "execution_count": 36,
   "metadata": {},
   "outputs": [
    {
     "data": {
      "text/plain": [
       "array([2, 1, 3, 3, 2, 1, 3, 2, 2, 2, 2, 2, 0, 0, 3, 2, 1, 3, 1, 1, 2, 2,\n",
       "       2, 2, 3, 1, 2, 2, 1, 2, 1, 0, 3, 2, 1, 1, 1, 3, 0, 2, 3, 3, 0, 2,\n",
       "       2, 0], dtype=int32)"
      ]
     },
     "execution_count": 36,
     "metadata": {},
     "output_type": "execute_result"
    }
   ],
   "source": [
    "# Результат кластеризации на данных X\n",
    "model.labels_"
   ]
  },
  {
   "cell_type": "code",
   "execution_count": 37,
   "metadata": {},
   "outputs": [
    {
     "data": {
      "text/plain": [
       "array([[0.24936869, 0.91842723, 0.70503597],\n",
       "       [0.34400826, 0.24039693, 0.14276371],\n",
       "       [0.26388889, 0.55429948, 0.53913561],\n",
       "       [0.69507576, 0.28016432, 0.13751285]])"
      ]
     },
     "execution_count": 37,
     "metadata": {},
     "output_type": "execute_result"
    }
   ],
   "source": [
    "# координаты центров кластеров\n",
    "model.cluster_centers_"
   ]
  },
  {
   "cell_type": "markdown",
   "metadata": {},
   "source": [
    "Модель выше разбивала на четыре кластера.\n",
    "Применим модель для разного числа кластеров, чтобы построить график каменистой осыпи. Метод ```inertia_``` вернёт сумму расстояний от каждой точки данных до центра ближайшего у ней кластера. Таким образом, кластеризацию можно считать условно хорошей, когда инерция перестаёт сильно уменьшаться при увеличении числа кластеров."
   ]
  },
  {
   "cell_type": "code",
   "execution_count": 38,
   "metadata": {},
   "outputs": [
    {
     "data": {
      "image/png": "[encoded data removed]",
      "text/plain": [
       "<Figure size 432x288 with 1 Axes>"
      ]
     },
     "metadata": {
      "needs_background": "light"
     },
     "output_type": "display_data"
    }
   ],
   "source": [
    "K = range(1, 20)\n",
    "models = [KMeans(n_clusters=k, random_state=42).fit(df2) for k in K]\n",
    "dist = [model.inertia_ for model in models]\n",
    "\n",
    "# Plot the elbow\n",
    "plt.plot(K, dist, marker='o')\n",
    "plt.xlabel('k')\n",
    "plt.ylabel('Sum of distances')\n",
    "plt.title('The Elbow Method showing the optimal k')\n",
    "plt.show()"
   ]
  },
  {
   "cell_type": "markdown",
   "metadata": {},
   "source": [
    "Локоть так же как и в прошлый раз находится на 3-4.\n",
    "\n",
    "Для сравнения с предыдущим методом возьмем, что четыре кластера - это оптимальный выбор. Посмотрим на список наблюдений, составляющий данные кластеры, и чем они отличаются друг от друга. Для этого применим метод ```labels_```, а затем посчитаем средние значения факторов для каждого кластера."
   ]
  },
  {
   "cell_type": "code",
   "execution_count": 39,
   "metadata": {},
   "outputs": [
    {
     "data": {
      "text/html": [
       "<div>\n",
       "<style scoped>\n",
       "    .dataframe tbody tr th:only-of-type {\n",
       "        vertical-align: middle;\n",
       "    }\n",
       "\n",
       "    .dataframe tbody tr th {\n",
       "        vertical-align: top;\n",
       "    }\n",
       "\n",
       "    .dataframe thead th {\n",
       "        text-align: right;\n",
       "    }\n",
       "</style>\n",
       "<table border=\"1\" class=\"dataframe\">\n",
       "  <thead>\n",
       "    <tr style=\"text-align: right;\">\n",
       "      <th></th>\n",
       "      <th>Work</th>\n",
       "      <th>Price</th>\n",
       "      <th>Salary</th>\n",
       "    </tr>\n",
       "    <tr>\n",
       "      <th>cluster</th>\n",
       "      <th></th>\n",
       "      <th></th>\n",
       "      <th></th>\n",
       "    </tr>\n",
       "  </thead>\n",
       "  <tbody>\n",
       "    <tr>\n",
       "      <th>0</th>\n",
       "      <td>1826.428571</td>\n",
       "      <td>75.021429</td>\n",
       "      <td>49.492857</td>\n",
       "    </tr>\n",
       "    <tr>\n",
       "      <th>1</th>\n",
       "      <td>1996.769231</td>\n",
       "      <td>60.238462</td>\n",
       "      <td>27.715385</td>\n",
       "    </tr>\n",
       "    <tr>\n",
       "      <th>2</th>\n",
       "      <td>1702.928571</td>\n",
       "      <td>80.121429</td>\n",
       "      <td>48.442857</td>\n",
       "    </tr>\n",
       "    <tr>\n",
       "      <th>3</th>\n",
       "      <td>2221.400000</td>\n",
       "      <td>53.900000</td>\n",
       "      <td>17.540000</td>\n",
       "    </tr>\n",
       "  </tbody>\n",
       "</table>\n",
       "</div>"
      ],
      "text/plain": [
       "                Work      Price     Salary\n",
       "cluster                                   \n",
       "0        1826.428571  75.021429  49.492857\n",
       "1        1996.769231  60.238462  27.715385\n",
       "2        1702.928571  80.121429  48.442857\n",
       "3        2221.400000  53.900000  17.540000"
      ]
     },
     "execution_count": 39,
     "metadata": {},
     "output_type": "execute_result"
    }
   ],
   "source": [
    "model = KMeans(n_clusters=4, random_state=42)\n",
    "model.fit(df2)\n",
    "df2['cluster'] = model.labels_\n",
    "df2.groupby('cluster').mean()"
   ]
  },
  {
   "cell_type": "code",
   "execution_count": 40,
   "metadata": {},
   "outputs": [
    {
     "data": {
      "text/plain": [
       "cluster\n",
       "0    14\n",
       "1    13\n",
       "2    14\n",
       "3     5\n",
       "dtype: int64"
      ]
     },
     "execution_count": 40,
     "metadata": {},
     "output_type": "execute_result"
    }
   ],
   "source": [
    "df2.groupby('cluster').size()"
   ]
  },
  {
   "cell_type": "markdown",
   "metadata": {},
   "source": [
    "**Вывод:** логика распределения по кластерам осталась прежней, однако кол-во наблюдений для каждого класса изменилось."
   ]
  },
  {
   "cell_type": "markdown",
   "metadata": {},
   "source": [
    "3.DBSCAN\n",
    "------------------"
   ]
  },
  {
   "cell_type": "code",
   "execution_count": 41,
   "metadata": {},
   "outputs": [],
   "source": [
    "from sklearn.cluster import DBSCAN\n",
    "from scipy.cluster.hierarchy import dendrogram, linkage, fcluster"
   ]
  },
  {
   "cell_type": "code",
   "execution_count": 42,
   "metadata": {},
   "outputs": [
    {
     "data": {
      "text/html": [
       "<div>\n",
       "<style scoped>\n",
       "    .dataframe tbody tr th:only-of-type {\n",
       "        vertical-align: middle;\n",
       "    }\n",
       "\n",
       "    .dataframe tbody tr th {\n",
       "        vertical-align: top;\n",
       "    }\n",
       "\n",
       "    .dataframe thead th {\n",
       "        text-align: right;\n",
       "    }\n",
       "</style>\n",
       "<table border=\"1\" class=\"dataframe\">\n",
       "  <thead>\n",
       "    <tr style=\"text-align: right;\">\n",
       "      <th></th>\n",
       "      <th>Work</th>\n",
       "      <th>Price</th>\n",
       "      <th>Salary</th>\n",
       "    </tr>\n",
       "    <tr>\n",
       "      <th>City</th>\n",
       "      <th></th>\n",
       "      <th></th>\n",
       "      <th></th>\n",
       "    </tr>\n",
       "  </thead>\n",
       "  <tbody>\n",
       "    <tr>\n",
       "      <th>Amsterdam</th>\n",
       "      <td>0.165404</td>\n",
       "      <td>0.414319</td>\n",
       "      <td>0.475848</td>\n",
       "    </tr>\n",
       "    <tr>\n",
       "      <th>Athens</th>\n",
       "      <td>0.263889</td>\n",
       "      <td>0.275822</td>\n",
       "      <td>0.284687</td>\n",
       "    </tr>\n",
       "    <tr>\n",
       "      <th>Bogota</th>\n",
       "      <td>0.718434</td>\n",
       "      <td>0.089202</td>\n",
       "      <td>0.090442</td>\n",
       "    </tr>\n",
       "    <tr>\n",
       "      <th>Bombay</th>\n",
       "      <td>0.592172</td>\n",
       "      <td>0.000000</td>\n",
       "      <td>0.026721</td>\n",
       "    </tr>\n",
       "    <tr>\n",
       "      <th>Brussels</th>\n",
       "      <td>0.157828</td>\n",
       "      <td>0.510563</td>\n",
       "      <td>0.491264</td>\n",
       "    </tr>\n",
       "  </tbody>\n",
       "</table>\n",
       "</div>"
      ],
      "text/plain": [
       "               Work     Price    Salary\n",
       "City                                   \n",
       "Amsterdam  0.165404  0.414319  0.475848\n",
       "Athens     0.263889  0.275822  0.284687\n",
       "Bogota     0.718434  0.089202  0.090442\n",
       "Bombay     0.592172  0.000000  0.026721\n",
       "Brussels   0.157828  0.510563  0.491264"
      ]
     },
     "execution_count": 42,
     "metadata": {},
     "output_type": "execute_result"
    }
   ],
   "source": [
    "#опять проверим на всякий случай данные\n",
    "X3.head()"
   ]
  },
  {
   "cell_type": "code",
   "execution_count": 43,
   "metadata": {},
   "outputs": [
    {
     "data": {
      "text/plain": [
       "array([0, 0, 0, 0, 0, 0, 0, 0, 0, 0, 0, 0, 0, 0, 0, 0, 0, 0, 0, 0, 0, 0,\n",
       "       0, 0, 0, 0, 0, 0, 0, 0, 0, 0, 0, 0, 0, 0, 0, 0, 0, 0, 0, 0, 0, 0,\n",
       "       0, 0])"
      ]
     },
     "execution_count": 43,
     "metadata": {},
     "output_type": "execute_result"
    }
   ],
   "source": [
    "#  Создадим объект DBSCAN, зададим значения параметров. \n",
    "#  Значения 3-х первых параметров совпадают со значениями \"по умолчанию\"\n",
    "dbscan_1 = DBSCAN(eps=2, metric='euclidean', min_samples=4)\n",
    "\n",
    "#  Обучим модель  DBSCAN clustering algorithm\n",
    "dbscan_1.fit(X3)\n",
    "#  к какому кластеру относится объект?\n",
    "# В какой кластер попало наблюдение - Numpy массив номеров кластеров\n",
    "dbscan_1.labels_"
   ]
  },
  {
   "cell_type": "markdown",
   "metadata": {},
   "source": [
    "Очевидно все в одном кластере, можно даже таблицу частот не строить. Будем подбирать."
   ]
  },
  {
   "cell_type": "code",
   "execution_count": 44,
   "metadata": {},
   "outputs": [
    {
     "name": "stdout",
     "output_type": "stream",
     "text": [
      "[[-1  4]\n",
      " [ 0 19]\n",
      " [ 1 19]\n",
      " [ 2  2]\n",
      " [ 3  2]]\n"
     ]
    }
   ],
   "source": [
    "#dbscan_1 = DBSCAN(eps=0.1, metric='euclidean', min_samples=2) -- 22 точки в -1 и 8 кластеров\n",
    "#dbscan_1 = DBSCAN(eps=0.1, metric='euclidean', min_samples=3) -- 30 точек в -1 и 4 кластера\n",
    "#dbscan_1 = DBSCAN(eps=0.15, metric='euclidean', min_samples=3) -- 12 точек в -1 и 2 кластера\n",
    "#dbscan_1 = DBSCAN(eps=0.2, metric='euclidean', min_samples=3) -- 8 точек в -1 и 2 кластера\n",
    "dbscan_1 = DBSCAN(eps=0.2, metric='euclidean', min_samples=2)\n",
    "dbscan_1.fit(X3)\n",
    "unique, counts = np.unique(dbscan_1.labels_, return_counts=True)\n",
    "print(np.asarray((unique, counts)).T)"
   ]
  },
  {
   "cell_type": "markdown",
   "metadata": {},
   "source": [
    "**Вывод:** логика распределения по кластерам осталась прежней, однако кол-во наблюдений для каждого класса изменилось."
   ]
  },
  {
   "cell_type": "code",
   "execution_count": null,
   "metadata": {},
   "outputs": [],
   "source": []
  }
 ],
 "metadata": {
  "kernelspec": {
   "display_name": "Python 3",
   "language": "python",
   "name": "python3"
  },
  "language_info": {
   "codemirror_mode": {
    "name": "ipython",
    "version": 3
   },
   "file_extension": ".py",
   "mimetype": "text/x-python",
   "name": "python",
   "nbconvert_exporter": "python",
   "pygments_lexer": "ipython3",
   "version": "3.8.5"
  }
 },
 "nbformat": 4,
 "nbformat_minor": 2
}
